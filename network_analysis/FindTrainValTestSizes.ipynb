{
 "cells": [
  {
   "cell_type": "code",
   "execution_count": 2,
   "id": "b1da6aba",
   "metadata": {},
   "outputs": [
    {
     "name": "stderr",
     "output_type": "stream",
     "text": [
      "/home/prasad/anaconda3/envs/GCN_ENVIR/lib/python3.10/site-packages/tqdm/auto.py:22: TqdmWarning: IProgress not found. Please update jupyter and ipywidgets. See https://ipywidgets.readthedocs.io/en/stable/user_install.html\n",
      "  from .autonotebook import tqdm as notebook_tqdm\n"
     ]
    }
   ],
   "source": [
    "import numpy as np\n",
    "import pandas as pd\n",
    "import os.path as osp\n",
    "import warnings\n",
    "\n",
    "import torch\n",
    "import torch.nn.functional as func\n",
    "from torch_geometric.loader import DataLoader\n",
    "from sklearn.model_selection import StratifiedKFold, train_test_split\n",
    "from sklearn.metrics import confusion_matrix\n",
    "\n",
    "from Model import GCN\n",
    "from mydatalist import mydatalist"
   ]
  },
  {
   "cell_type": "markdown",
   "id": "247d54c1",
   "metadata": {},
   "source": [
    "### PSD sample"
   ]
  },
  {
   "cell_type": "code",
   "execution_count": 15,
   "id": "0dfda7ab",
   "metadata": {},
   "outputs": [],
   "source": [
    "labelCSV='/booboo_workspace/mlewis/UKB_HCP_Neocortex/FCrest/raw/Labels.csv'\n",
    "LISTS=pd.read_csv(labelCSV,delimiter=',')\n",
    "mydata=mydatalist(LISTS.SUBJECTS,LISTS.LABELS)\n",
    "skf = StratifiedKFold(n_splits=10, shuffle=True, random_state=99)\n",
    "dataset=mydata\n",
    "\n",
    "del train \n",
    "del val \n",
    "del test"
   ]
  },
  {
   "cell_type": "code",
   "execution_count": 16,
   "id": "3b471f56",
   "metadata": {},
   "outputs": [],
   "source": [
    "for n_fold, (train_val, test) in enumerate(skf.split(LISTS.LABELS, LISTS.LABELS)):\n",
    "    if n_fold == 1 :\n",
    "        train_val_dataset=[]\n",
    "        train_val_subs=[]\n",
    "        train_dataset=[]\n",
    "        train_subs=[]\n",
    "        val_dataset=[]\n",
    "        val_subs=[]\n",
    "        test_dataset=[]\n",
    "        test_subs=[]\n",
    "    \n",
    "        train_val_labels = LISTS.LABELS[train_val]\n",
    "        for t in train_val: \n",
    "            train_val_dataset.append(dataset[t])\n",
    "            train_val_subs.append(LISTS.SUBJECTS[t])\n",
    "        train_val_index = np.arange(len(train_val_dataset))\n",
    "    \n",
    "        train, val, _, _ = train_test_split(train_val_index, train_val_labels, test_size=0.11, shuffle=True, stratify=train_val_labels)\n",
    "    \n",
    "        for i in train: \n",
    "            train_dataset.append(train_val_dataset[i])\n",
    "            train_subs.append(train_val_subs[i])\n",
    "        for j in val: \n",
    "            val_dataset.append(train_val_dataset[j])\n",
    "            val_subs.append(train_val_subs[j])\n",
    "        for k in test: \n",
    "            test_dataset.append(dataset[k])\n",
    "            test_subs.append(LISTS.SUBJECTS[k])"
   ]
  },
  {
   "cell_type": "code",
   "execution_count": 17,
   "id": "b8d7b0ab",
   "metadata": {},
   "outputs": [
    {
     "name": "stdout",
     "output_type": "stream",
     "text": [
      "(736,)\n",
      "(91,)\n",
      "(91,)\n"
     ]
    }
   ],
   "source": [
    "print(train.shape)\n",
    "print(val.shape)\n",
    "print(test.shape)"
   ]
  },
  {
   "cell_type": "markdown",
   "id": "f8560fbf",
   "metadata": {},
   "source": [
    "### UPE sample"
   ]
  },
  {
   "cell_type": "code",
   "execution_count": 9,
   "id": "3cda6c7f",
   "metadata": {},
   "outputs": [
    {
     "name": "stdout",
     "output_type": "stream",
     "text": [
      "        SUBJECTS  LABELS\n",
      "0    sub-3170736       0\n",
      "1    sub-3225884       0\n",
      "2    sub-4256521       0\n",
      "3    sub-4354034       0\n",
      "4    sub-2909392       0\n",
      "..           ...     ...\n",
      "735  sub-5957862       1\n",
      "736  sub-5958533       1\n",
      "737  sub-5962566       1\n",
      "738  sub-5968003       1\n",
      "739  sub-6001134       1\n",
      "\n",
      "[740 rows x 2 columns]\n"
     ]
    }
   ],
   "source": [
    "labelCSV='/booboo_workspace/mlewis/UKB_HCP_Neocortex/FCrest/Labels_UPE.csv'\n",
    "LISTS=pd.read_csv(labelCSV,delimiter=',')\n",
    "mydata=mydatalist(LISTS.SUBJECTS,LISTS.LABELS)\n",
    "skf = StratifiedKFold(n_splits=10, shuffle=True, random_state=99)\n",
    "dataset=mydata\n"
   ]
  },
  {
   "cell_type": "code",
   "execution_count": 10,
   "id": "71588a83",
   "metadata": {},
   "outputs": [],
   "source": [
    "for n_fold, (train_val, test) in enumerate(skf.split(LISTS.LABELS, LISTS.LABELS)):\n",
    "    if n_fold == 1 :\n",
    "        train_val_dataset=[]\n",
    "        train_val_subs=[]\n",
    "        train_dataset=[]\n",
    "        train_subs=[]\n",
    "        val_dataset=[]\n",
    "        val_subs=[]\n",
    "        test_dataset=[]\n",
    "        test_subs=[]\n",
    "    \n",
    "        train_val_labels = LISTS.LABELS[train_val]\n",
    "        for t in train_val: \n",
    "            train_val_dataset.append(dataset[t])\n",
    "            train_val_subs.append(LISTS.SUBJECTS[t])\n",
    "        train_val_index = np.arange(len(train_val_dataset))\n",
    "    \n",
    "        train, val, _, _ = train_test_split(train_val_index, train_val_labels, test_size=0.11, shuffle=True, stratify=train_val_labels)\n",
    "    \n",
    "        for i in train: \n",
    "            train_dataset.append(train_val_dataset[i])\n",
    "            train_subs.append(train_val_subs[i])\n",
    "        for j in val: \n",
    "            val_dataset.append(train_val_dataset[j])\n",
    "            val_subs.append(train_val_subs[j])\n",
    "        for k in test: \n",
    "            test_dataset.append(dataset[k])\n",
    "            test_subs.append(LISTS.SUBJECTS[k])"
   ]
  },
  {
   "cell_type": "code",
   "execution_count": 11,
   "id": "b8d27c6b",
   "metadata": {},
   "outputs": [
    {
     "name": "stdout",
     "output_type": "stream",
     "text": [
      "(592,)\n",
      "(74,)\n",
      "(74,)\n"
     ]
    }
   ],
   "source": [
    "print(train.shape)\n",
    "print(val.shape)\n",
    "print(test.shape)"
   ]
  },
  {
   "cell_type": "markdown",
   "id": "c6f3a7a2",
   "metadata": {},
   "source": [
    "### ICD Sample"
   ]
  },
  {
   "cell_type": "code",
   "execution_count": 4,
   "id": "d16182a2",
   "metadata": {},
   "outputs": [],
   "source": [
    "labelCSV='/booboo_workspace/mlewis/UKB_HCP_Neocortex/FCrest/Labels_ICD.csv'\n",
    "LISTS=pd.read_csv(labelCSV,delimiter=',')\n",
    "mydata=mydatalist(LISTS.SUBJECTS,LISTS.LABELS)\n",
    "skf = StratifiedKFold(n_splits=5, shuffle=True, random_state=99)\n",
    "dataset=mydata"
   ]
  },
  {
   "cell_type": "code",
   "execution_count": 7,
   "id": "2ce48aca",
   "metadata": {},
   "outputs": [
    {
     "name": "stdout",
     "output_type": "stream",
     "text": [
      "(159,)\n",
      "(39,)\n"
     ]
    }
   ],
   "source": [
    "for n_fold, (train_val, test) in enumerate(skf.split(LISTS.LABELS, LISTS.LABELS)):\n",
    "    if n_fold == 4 :\n",
    "        print(train_val.shape)\n",
    "        print(test.shape)\n",
    "        train_val_dataset=[]\n",
    "        train_val_subs=[]\n",
    "        train_dataset=[]\n",
    "        train_subs=[]\n",
    "        val_dataset=[]\n",
    "        val_subs=[]\n",
    "        test_dataset=[]\n",
    "        test_subs=[]\n",
    "    \n",
    "        train_val_labels = LISTS.LABELS[train_val]\n",
    "        for t in train_val: \n",
    "            train_val_dataset.append(dataset[t])\n",
    "            train_val_subs.append(LISTS.SUBJECTS[t])\n",
    "        train_val_index = np.arange(len(train_val_dataset))\n",
    "    \n",
    "        train, val, _, _ = train_test_split(train_val_index, train_val_labels, test_size=0.11, shuffle=True, stratify=train_val_labels)\n",
    "    \n",
    "        for i in train: \n",
    "            train_dataset.append(train_val_dataset[i])\n",
    "            train_subs.append(train_val_subs[i])\n",
    "        for j in val: \n",
    "            val_dataset.append(train_val_dataset[j])\n",
    "            val_subs.append(train_val_subs[j])\n",
    "        for k in test: \n",
    "            test_dataset.append(dataset[k])\n",
    "            test_subs.append(LISTS.SUBJECTS[k])"
   ]
  },
  {
   "cell_type": "code",
   "execution_count": 8,
   "id": "989ef2ad",
   "metadata": {},
   "outputs": [
    {
     "name": "stdout",
     "output_type": "stream",
     "text": [
      "(141,)\n",
      "(18,)\n",
      "(39,)\n"
     ]
    }
   ],
   "source": [
    "print(train.shape)\n",
    "print(val.shape)\n",
    "print(test.shape)"
   ]
  },
  {
   "cell_type": "code",
   "execution_count": null,
   "id": "d39386aa",
   "metadata": {},
   "outputs": [],
   "source": []
  }
 ],
 "metadata": {
  "kernelspec": {
   "display_name": "Python 3 (ipykernel)",
   "language": "python",
   "name": "python3"
  },
  "language_info": {
   "codemirror_mode": {
    "name": "ipython",
    "version": 3
   },
   "file_extension": ".py",
   "mimetype": "text/x-python",
   "name": "python",
   "nbconvert_exporter": "python",
   "pygments_lexer": "ipython3",
   "version": "3.10.8"
  }
 },
 "nbformat": 4,
 "nbformat_minor": 5
}
