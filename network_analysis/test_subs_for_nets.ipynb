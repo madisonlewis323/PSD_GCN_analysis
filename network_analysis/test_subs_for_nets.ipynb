{
 "cells": [
  {
   "cell_type": "code",
   "execution_count": 1,
   "id": "dae94652",
   "metadata": {},
   "outputs": [
    {
     "name": "stderr",
     "output_type": "stream",
     "text": [
      "/home/prasad/anaconda3/envs/GCN_ENVIR/lib/python3.10/site-packages/tqdm/auto.py:22: TqdmWarning: IProgress not found. Please update jupyter and ipywidgets. See https://ipywidgets.readthedocs.io/en/stable/user_install.html\n",
      "  from .autonotebook import tqdm as notebook_tqdm\n"
     ]
    }
   ],
   "source": [
    "import numpy as np\n",
    "import pandas as pd\n",
    "import os.path as osp\n",
    "import warnings\n",
    "\n",
    "import torch\n",
    "import torch.nn.functional as func\n",
    "from torch_geometric.loader import DataLoader\n",
    "from sklearn.model_selection import StratifiedKFold, train_test_split\n",
    "from sklearn.metrics import confusion_matrix\n",
    "\n",
    "from Model import GCN\n",
    "from mydatalist import mydatalist"
   ]
  },
  {
   "cell_type": "code",
   "execution_count": null,
   "id": "29689e70",
   "metadata": {},
   "outputs": [],
   "source": []
  },
  {
   "cell_type": "code",
   "execution_count": 2,
   "id": "4012064a",
   "metadata": {},
   "outputs": [],
   "source": [
    "def GCN_train(loader):\n",
    "    model.train()\n",
    "\n",
    "    train_loss_all = 0\n",
    "    for data in loader:\n",
    "        data = data.to(device)\n",
    "        optimizer.zero_grad()\n",
    "        output = model(data)\n",
    "        train_loss = func.cross_entropy(output, data.y)\n",
    "        train_loss.backward()\n",
    "        train_loss_all += data.num_graphs * train_loss.item()\n",
    "        optimizer.step()\n",
    "    return train_loss_all / len(train_dataset)"
   ]
  },
  {
   "cell_type": "code",
   "execution_count": 3,
   "id": "56d1e4c0",
   "metadata": {},
   "outputs": [],
   "source": [
    "def GCN_test(loader):\n",
    "    model.eval()\n",
    "\n",
    "    pred = []\n",
    "    label = []\n",
    "    val_loss_all = 0\n",
    "    for data in loader:\n",
    "        data = data.to(device)\n",
    "        output = model(data)\n",
    "        val_loss = func.cross_entropy(output, data.y)\n",
    "        val_loss_all += data.num_graphs * val_loss.item()\n",
    "        pred.append(func.softmax(output, dim=1).max(dim=1)[1])\n",
    "        label.append(data.y)\n",
    "\n",
    "    y_pred = torch.cat(pred, dim=0).cpu().detach().numpy()\n",
    "    y_true = torch.cat(label, dim=0).cpu().detach().numpy()\n",
    "    tn, fp, fn, tp = confusion_matrix(y_pred, y_true).ravel()\n",
    "    epoch_sen = tp / (tp + fn)\n",
    "    epoch_spe = tn / (tn + fp)\n",
    "    epoch_bac = (epoch_sen + epoch_spe) / 2\n",
    "    return epoch_sen, epoch_spe, epoch_bac, val_loss_all / len(val_dataset), y_pred, y_true"
   ]
  },
  {
   "cell_type": "code",
   "execution_count": 8,
   "id": "1d05ce25",
   "metadata": {},
   "outputs": [
    {
     "name": "stdout",
     "output_type": "stream",
     "text": [
      "        SUBJECTS  LABELS\n",
      "0    sub-3244359       0\n",
      "1    sub-2124716       0\n",
      "2    sub-2273147       0\n",
      "3    sub-3983576       0\n",
      "4    sub-2604285       0\n",
      "..           ...     ...\n",
      "193  sub-5710005       1\n",
      "194  sub-5765518       1\n",
      "195  sub-5786569       1\n",
      "196  sub-5831273       1\n",
      "197  sub-5963766       1\n",
      "\n",
      "[198 rows x 2 columns]\n"
     ]
    }
   ],
   "source": [
    "labelCSV='/booboo_workspace/mlewis/UKB_HCP_Neocortex/FCrest/Labels_ICD.csv'\n",
    "LISTS=pd.read_csv(labelCSV,delimiter=',')\n",
    "mydata=mydatalist(LISTS.SUBJECTS,LISTS.LABELS)\n",
    "skf = StratifiedKFold(n_splits=5, shuffle=True, random_state=99)\n",
    "dataset=mydata\n",
    "\n",
    "print(LISTS)"
   ]
  },
  {
   "cell_type": "code",
   "execution_count": 9,
   "id": "3056e8b2",
   "metadata": {},
   "outputs": [],
   "source": [
    "for n_fold, (train_val, test) in enumerate(skf.split(LISTS.LABELS, LISTS.LABELS)):\n",
    "    if n_fold == 5 :\n",
    "        print(train_val.shape)\n",
    "        print(test.shape)\n",
    "        train_val_dataset=[]\n",
    "        train_val_subs=[]\n",
    "        train_dataset=[]\n",
    "        train_subs=[]\n",
    "        val_dataset=[]\n",
    "        val_subs=[]\n",
    "        test_dataset=[]\n",
    "        test_subs=[]\n",
    "    \n",
    "        train_val_labels = LISTS.LABELS[train_val]\n",
    "        for t in train_val: \n",
    "            train_val_dataset.append(dataset[t])\n",
    "            train_val_subs.append(LISTS.SUBJECTS[t])\n",
    "        train_val_index = np.arange(len(train_val_dataset))\n",
    "    \n",
    "        train, val, _, _ = train_test_split(train_val_index, train_val_labels, test_size=0.11, shuffle=True, stratify=train_val_labels)\n",
    "    \n",
    "        for i in train: \n",
    "            train_dataset.append(train_val_dataset[i])\n",
    "            train_subs.append(train_val_subs[i])\n",
    "        for j in val: \n",
    "            val_dataset.append(train_val_dataset[j])\n",
    "            val_subs.append(train_val_subs[j])\n",
    "        for k in test: \n",
    "            test_dataset.append(dataset[k])\n",
    "            test_subs.append(LISTS.SUBJECTS[k])"
   ]
  },
  {
   "cell_type": "code",
   "execution_count": 13,
   "id": "41fcf2d4",
   "metadata": {},
   "outputs": [
    {
     "name": "stdout",
     "output_type": "stream",
     "text": [
      "(159,)\n",
      "(39,)\n"
     ]
    }
   ],
   "source": [
    "print(train_val.shape)\n",
    "print(test.shape)"
   ]
  },
  {
   "cell_type": "code",
   "execution_count": 10,
   "id": "fd35c07d",
   "metadata": {},
   "outputs": [
    {
     "data": {
      "text/plain": [
       "(18,)"
      ]
     },
     "execution_count": 10,
     "metadata": {},
     "output_type": "execute_result"
    }
   ],
   "source": [
    "val.shape"
   ]
  },
  {
   "cell_type": "code",
   "execution_count": 11,
   "id": "ed25c2b3",
   "metadata": {},
   "outputs": [
    {
     "data": {
      "text/plain": [
       "(140,)"
      ]
     },
     "execution_count": 11,
     "metadata": {},
     "output_type": "execute_result"
    }
   ],
   "source": [
    "train.shape"
   ]
  },
  {
   "cell_type": "code",
   "execution_count": 15,
   "id": "a7643be0",
   "metadata": {},
   "outputs": [],
   "source": [
    "device = torch.device('cuda' if torch.cuda.is_available() else 'cpu')\n",
    "model = GCN(377, 2, 12).to(device)\n",
    "optimizer = torch.optim.Adam(model.parameters(), lr=0.001, weight_decay=5e-4)"
   ]
  },
  {
   "cell_type": "code",
   "execution_count": 24,
   "id": "c17aae4a",
   "metadata": {},
   "outputs": [
    {
     "data": {
      "text/plain": [
       "437506"
      ]
     },
     "execution_count": 24,
     "metadata": {},
     "output_type": "execute_result"
    }
   ],
   "source": [
    "total_params = sum(param.numel() for param in model.parameters())\n",
    "total_params"
   ]
  },
  {
   "cell_type": "code",
   "execution_count": 25,
   "id": "302968ac",
   "metadata": {
    "scrolled": true
   },
   "outputs": [
    {
     "data": {
      "text/plain": [
       "437506"
      ]
     },
     "execution_count": 25,
     "metadata": {},
     "output_type": "execute_result"
    }
   ],
   "source": [
    "trainable_params = sum(p.numel() for p in model.parameters() if p.requires_grad)\n",
    "trainable_params"
   ]
  },
  {
   "cell_type": "code",
   "execution_count": 26,
   "id": "7ed9368a",
   "metadata": {},
   "outputs": [
    {
     "name": "stdout",
     "output_type": "stream",
     "text": [
      "+----------------------+------------+\n",
      "|       Modules        | Parameters |\n",
      "+----------------------+------------+\n",
      "|      conv1.bias      |     64     |\n",
      "| conv1.lins.0.weight  |   24128    |\n",
      "| conv1.lins.1.weight  |   24128    |\n",
      "| conv1.lins.2.weight  |   24128    |\n",
      "| conv1.lins.3.weight  |   24128    |\n",
      "| conv1.lins.4.weight  |   24128    |\n",
      "| conv1.lins.5.weight  |   24128    |\n",
      "| conv1.lins.6.weight  |   24128    |\n",
      "| conv1.lins.7.weight  |   24128    |\n",
      "| conv1.lins.8.weight  |   24128    |\n",
      "| conv1.lins.9.weight  |   24128    |\n",
      "| conv1.lins.10.weight |   24128    |\n",
      "| conv1.lins.11.weight |   24128    |\n",
      "|      conv2.bias      |     64     |\n",
      "| conv2.lins.0.weight  |    4096    |\n",
      "| conv2.lins.1.weight  |    4096    |\n",
      "| conv2.lins.2.weight  |    4096    |\n",
      "| conv2.lins.3.weight  |    4096    |\n",
      "| conv2.lins.4.weight  |    4096    |\n",
      "| conv2.lins.5.weight  |    4096    |\n",
      "| conv2.lins.6.weight  |    4096    |\n",
      "| conv2.lins.7.weight  |    4096    |\n",
      "| conv2.lins.8.weight  |    4096    |\n",
      "| conv2.lins.9.weight  |    4096    |\n",
      "| conv2.lins.10.weight |    4096    |\n",
      "| conv2.lins.11.weight |    4096    |\n",
      "|      conv3.bias      |    128     |\n",
      "| conv3.lins.0.weight  |    8192    |\n",
      "| conv3.lins.1.weight  |    8192    |\n",
      "| conv3.lins.2.weight  |    8192    |\n",
      "| conv3.lins.3.weight  |    8192    |\n",
      "| conv3.lins.4.weight  |    8192    |\n",
      "| conv3.lins.5.weight  |    8192    |\n",
      "| conv3.lins.6.weight  |    8192    |\n",
      "| conv3.lins.7.weight  |    8192    |\n",
      "| conv3.lins.8.weight  |    8192    |\n",
      "| conv3.lins.9.weight  |    8192    |\n",
      "| conv3.lins.10.weight |    8192    |\n",
      "| conv3.lins.11.weight |    8192    |\n",
      "|     lin1.weight      |    256     |\n",
      "|      lin1.bias       |     2      |\n",
      "+----------------------+------------+\n",
      "Total Trainable Params: 437506\n"
     ]
    },
    {
     "data": {
      "text/plain": [
       "437506"
      ]
     },
     "execution_count": 26,
     "metadata": {},
     "output_type": "execute_result"
    }
   ],
   "source": [
    "from prettytable import PrettyTable\n",
    "\n",
    "def count_parameters(model):\n",
    "    table = PrettyTable([\"Modules\", \"Parameters\"])\n",
    "    total_params = 0\n",
    "    for name, parameter in model.named_parameters():\n",
    "        if not parameter.requires_grad:\n",
    "            continue\n",
    "        params = parameter.numel()\n",
    "        table.add_row([name, params])\n",
    "        total_params += params\n",
    "    print(table)\n",
    "    print(f\"Total Trainable Params: {total_params}\")\n",
    "    return total_params\n",
    "    \n",
    "count_parameters(model)"
   ]
  },
  {
   "cell_type": "code",
   "execution_count": 78,
   "id": "c436eec6",
   "metadata": {},
   "outputs": [
    {
     "name": "stdout",
     "output_type": "stream",
     "text": [
      "(158,)\n",
      "(40,)\n"
     ]
    }
   ],
   "source": [
    "skf = StratifiedKFold(n_splits=5, shuffle=True, random_state=23)\n",
    "for n_fold, (train_val, test) in enumerate(skf.split(LISTS.LABELS, LISTS.LABELS)):\n",
    "    if n_fold == 2 :\n",
    "        print(train_val.shape)\n",
    "        print(test.shape)\n",
    "        train_val_dataset=[]\n",
    "        train_val_subs=[]\n",
    "        train_dataset=[]\n",
    "        train_subs=[]\n",
    "        val_dataset=[]\n",
    "        val_subs=[]\n",
    "        test_dataset=[]\n",
    "        test_subs=[]\n",
    "    \n",
    "        train_val_labels = LISTS.LABELS[train_val]\n",
    "        for t in train_val: \n",
    "            train_val_dataset.append(dataset[t])\n",
    "            train_val_subs.append(LISTS.SUBJECTS[t])\n",
    "        train_val_index = np.arange(len(train_val_dataset))\n",
    "    \n",
    "        train, val, _, _ = train_test_split(train_val_index, train_val_labels, test_size=0.11, shuffle=True, stratify=train_val_labels)\n",
    "    \n",
    "        for i in train: \n",
    "            train_dataset.append(train_val_dataset[i])\n",
    "            train_subs.append(train_val_subs[i])\n",
    "        for j in val: \n",
    "            val_dataset.append(train_val_dataset[j])\n",
    "            val_subs.append(train_val_subs[j])\n",
    "        for k in test: \n",
    "            test_dataset.append(dataset[k])\n",
    "            test_subs.append(LISTS.SUBJECTS[k])"
   ]
  },
  {
   "cell_type": "code",
   "execution_count": 79,
   "id": "778dedc3",
   "metadata": {},
   "outputs": [
    {
     "data": {
      "text/plain": [
       "['sub-2124716',\n",
       " 'sub-4971376',\n",
       " 'sub-3108433',\n",
       " 'sub-4311685',\n",
       " 'sub-2752500',\n",
       " 'sub-1402983',\n",
       " 'sub-3231009',\n",
       " 'sub-2850064',\n",
       " 'sub-1750781',\n",
       " 'sub-4073779',\n",
       " 'sub-3019539',\n",
       " 'sub-2765733',\n",
       " 'sub-1247490',\n",
       " 'sub-2346496',\n",
       " 'sub-4240403',\n",
       " 'sub-3644741',\n",
       " 'sub-3942016',\n",
       " 'sub-1482746',\n",
       " 'sub-2701675',\n",
       " 'sub-2717700',\n",
       " 'sub-1217830',\n",
       " 'sub-1284712',\n",
       " 'sub-1296510',\n",
       " 'sub-1352607',\n",
       " 'sub-1912779',\n",
       " 'sub-1938394',\n",
       " 'sub-2673301',\n",
       " 'sub-2691220',\n",
       " 'sub-2710880',\n",
       " 'sub-3608764',\n",
       " 'sub-3682291',\n",
       " 'sub-4142852',\n",
       " 'sub-5024018',\n",
       " 'sub-5065362',\n",
       " 'sub-5092773',\n",
       " 'sub-5378198',\n",
       " 'sub-5393731',\n",
       " 'sub-5565231',\n",
       " 'sub-5656384',\n",
       " 'sub-5831273']"
      ]
     },
     "execution_count": 79,
     "metadata": {},
     "output_type": "execute_result"
    }
   ],
   "source": [
    "test_subs"
   ]
  },
  {
   "cell_type": "code",
   "execution_count": 80,
   "id": "73eb555d",
   "metadata": {},
   "outputs": [
    {
     "name": "stdout",
     "output_type": "stream",
     "text": [
      "0.5 nan nan\n"
     ]
    },
    {
     "name": "stderr",
     "output_type": "stream",
     "text": [
      "/tmp/ipykernel_1091/3343721839.py:19: RuntimeWarning: invalid value encountered in long_scalars\n",
      "  epoch_spe = tn / (tn + fp)\n"
     ]
    }
   ],
   "source": [
    "device = torch.device('cuda' if torch.cuda.is_available() else 'cpu')\n",
    "model = GCN(377, 2, 12).to(device)\n",
    "optimizer = torch.optim.Adam(model.parameters(), lr=0.001, weight_decay=5e-4)\n",
    "#PATH='/booboo_workspace/mlewis/UKB_HCP_Neocortex/Code/GCN_SCZ_Classification/MSTd_ICD_best_model_01.pth'\n",
    "model.load_state_dict(torch.load('MSTd_ICD_best_model_01.pth'))\n",
    "model.eval()\n",
    "test_loader = DataLoader(test_dataset, batch_size=64, shuffle=True)\n",
    "test_sen, test_spe, test_bac, _, y_pred, y_true = GCN_test(test_loader)\n",
    "print(test_sen, test_spe, test_bac)"
   ]
  },
  {
   "cell_type": "code",
   "execution_count": null,
   "id": "d2b04bba",
   "metadata": {},
   "outputs": [],
   "source": [
    "test_outcome=pd.DataFrame()\n",
    "test_outcome['subjects']=test_subs\n",
    "test_outcome['prediction']=y_pred\n",
    "test_outcome['true']=y_true"
   ]
  },
  {
   "cell_type": "code",
   "execution_count": null,
   "id": "91dd83ee",
   "metadata": {},
   "outputs": [],
   "source": [
    "test_outcome"
   ]
  },
  {
   "cell_type": "code",
   "execution_count": null,
   "id": "bf06c3ee",
   "metadata": {},
   "outputs": [],
   "source": [
    "test_outcome.to_csv('ICD_outcomes.csv')"
   ]
  },
  {
   "cell_type": "code",
   "execution_count": 39,
   "id": "c9464046",
   "metadata": {},
   "outputs": [],
   "source": [
    "device = torch.device('cuda' if torch.cuda.is_available() else 'cpu')\n",
    "PATH = 'MSTd_ICD_best_model_05.pth'\n",
    "model = GCN(377, 2, 12).to(device)\n",
    "optimizer = torch.optim.Adam(model.parameters(), lr=0.001, weight_decay=5e-4)"
   ]
  },
  {
   "cell_type": "code",
   "execution_count": 94,
   "id": "bf39d027",
   "metadata": {},
   "outputs": [
    {
     "name": "stderr",
     "output_type": "stream",
     "text": [
      "/tmp/ipykernel_1091/3343721839.py:19: RuntimeWarning: invalid value encountered in long_scalars\n",
      "  epoch_spe = tn / (tn + fp)\n"
     ]
    },
    {
     "name": "stdout",
     "output_type": "stream",
     "text": [
      "0.5 nan nan\n",
      "0.5 nan nan\n"
     ]
    },
    {
     "name": "stderr",
     "output_type": "stream",
     "text": [
      "/tmp/ipykernel_1091/3343721839.py:19: RuntimeWarning: invalid value encountered in long_scalars\n",
      "  epoch_spe = tn / (tn + fp)\n"
     ]
    }
   ],
   "source": [
    "train_loader = DataLoader(train_dataset, batch_size=64, shuffle=False)\n",
    "val_loader = DataLoader(val_dataset, batch_size=64, shuffle=False)\n",
    "test_loader = DataLoader(test_dataset, batch_size=64, shuffle=False)\n",
    "t_loss = GCN_train(train_loader)\n",
    "val_sen, val_spe, val_bac, v_loss, y_pred_v, y_true_v = GCN_test(val_loader)\n",
    "test_sen, test_spe, test_bac, _, y_pred_t, y_true_t = GCN_test(test_loader)\n",
    "print(test_sen, test_spe, test_bac)\n",
    "print(val_sen, val_spe, val_bac)"
   ]
  },
  {
   "cell_type": "code",
   "execution_count": 85,
   "id": "479780dc",
   "metadata": {},
   "outputs": [
    {
     "data": {
      "text/plain": [
       "nan"
      ]
     },
     "execution_count": 85,
     "metadata": {},
     "output_type": "execute_result"
    }
   ],
   "source": [
    "test_bac"
   ]
  },
  {
   "cell_type": "code",
   "execution_count": 13,
   "id": "1aaf028b",
   "metadata": {},
   "outputs": [
    {
     "data": {
      "text/plain": [
       "0.5692307692307692"
      ]
     },
     "execution_count": 13,
     "metadata": {},
     "output_type": "execute_result"
    }
   ],
   "source": [
    "val_bac"
   ]
  },
  {
   "cell_type": "code",
   "execution_count": 14,
   "id": "d07811f7",
   "metadata": {},
   "outputs": [],
   "source": [
    "val_outcome=pd.DataFrame()\n",
    "val_outcome['subjects']=val_subs\n",
    "val_outcome['prediction']=y_pred_v\n",
    "val_outcome['true']=y_true_v\n",
    "val_outcome.to_csv('ICD_outcomes_val.csv')"
   ]
  },
  {
   "cell_type": "code",
   "execution_count": 92,
   "id": "f20255a8",
   "metadata": {},
   "outputs": [],
   "source": [
    "test_outcome=pd.DataFrame()\n",
    "test_outcome['subjects']=test_subs\n",
    "test_outcome['prediction']=y_pred_t\n",
    "test_outcome['true']=y_true_t\n",
    "test_outcome.to_csv('ICD_outcomes_test5.csv')"
   ]
  },
  {
   "cell_type": "code",
   "execution_count": null,
   "id": "072813f4",
   "metadata": {},
   "outputs": [],
   "source": []
  }
 ],
 "metadata": {
  "kernelspec": {
   "display_name": "Python 3 (ipykernel)",
   "language": "python",
   "name": "python3"
  },
  "language_info": {
   "codemirror_mode": {
    "name": "ipython",
    "version": 3
   },
   "file_extension": ".py",
   "mimetype": "text/x-python",
   "name": "python",
   "nbconvert_exporter": "python",
   "pygments_lexer": "ipython3",
   "version": "3.10.8"
  }
 },
 "nbformat": 4,
 "nbformat_minor": 5
}
