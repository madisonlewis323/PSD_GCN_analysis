{
 "cells": [
  {
   "cell_type": "code",
   "execution_count": null,
   "id": "5b008396",
   "metadata": {},
   "outputs": [],
   "source": [
    "import numpy as np\n",
    "import pandas as pd\n",
    "import os.path as osp\n",
    "import warnings\n",
    "\n",
    "import torch\n",
    "import torch.nn.functional as func\n",
    "from torch_geometric.loader import DataLoader\n",
    "from sklearn.model_selection import StratifiedKFold, train_test_split\n",
    "from sklearn.metrics import confusion_matrix\n",
    "\n",
    "from mydatalist import mydatalist\n",
    "from Model_CAM import GCN"
   ]
  },
  {
   "cell_type": "markdown",
   "id": "4ea0ee0b",
   "metadata": {},
   "source": [
    "## Load in Subjects"
   ]
  },
  {
   "cell_type": "code",
   "execution_count": null,
   "id": "133b46fe",
   "metadata": {},
   "outputs": [],
   "source": [
    "labelCSV='/path/to/labels/Labels_UPE.csv'\n",
    "LISTS=pd.read_csv(labelCSV,delimiter=',')\n",
    "mydata=mydatalist(LISTS.SUBJECTS,LISTS.LABELS)\n",
    "skf = StratifiedKFold(n_splits=10, shuffle=True, random_state=99)\n",
    "dataset=mydata\n",
    "\n",
    "print(LISTS)"
   ]
  },
  {
   "cell_type": "markdown",
   "id": "8ac010c8",
   "metadata": {},
   "source": [
    "## Load in Best Model (fold 5)"
   ]
  },
  {
   "cell_type": "code",
   "execution_count": null,
   "id": "d54b3912",
   "metadata": {},
   "outputs": [],
   "source": [
    "device = torch.device('cuda' if torch.cuda.is_available() else 'cpu')\n",
    "model = GCN(377, 2, 12).to(device)\n",
    "optimizer = torch.optim.Adam(model.parameters(), lr=0.001, weight_decay=5e-4)\n",
    "model.load_state_dict(torch.load('bestUPE_fold05model.pth'))\n",
    "model.eval()"
   ]
  },
  {
   "cell_type": "markdown",
   "id": "ea47c27d",
   "metadata": {},
   "source": [
    "## Define CAM function"
   ]
  },
  {
   "cell_type": "code",
   "execution_count": null,
   "id": "7ddb6da0",
   "metadata": {},
   "outputs": [],
   "source": [
    "def get_cam(dataset, label, model, device):\n",
    "    y = torch.cat([data.y.reshape(1) for data in dataset], dim=0)\n",
    "    idx = (y == label).nonzero().numpy().reshape(-1)\n",
    "\n",
    "    model.eval()\n",
    "    w = model.state_dict()['lin1.weight'].detach()\n",
    "    b = model.state_dict()['lin1.bias'].detach()\n",
    "    \n",
    "    class_dataset=[]\n",
    "    for index in idx:\n",
    "        class_dataset.append(dataset[index])\n",
    "\n",
    "    cam_all = []\n",
    "    for data in class_dataset:\n",
    "        data = data.to(device)\n",
    "        _, cam_conv = model(data, cam_required=True)\n",
    "        cam = torch.matmul(cam_conv, w[int(label)])\n",
    "        cam_all.append(cam)\n",
    "    cam_all = torch.stack(cam_all)\n",
    "\n",
    "    return cam_all"
   ]
  },
  {
   "cell_type": "markdown",
   "id": "81d50a5f",
   "metadata": {},
   "source": [
    "## Get CAM for test subjects"
   ]
  },
  {
   "cell_type": "code",
   "execution_count": null,
   "id": "5591c1b4",
   "metadata": {},
   "outputs": [],
   "source": [
    "cam_0_dataset = get_cam(dataset, 0, model, device)\n",
    "cam_1_dataset = get_cam(dataset, 1, model, device)"
   ]
  },
  {
   "cell_type": "code",
   "execution_count": null,
   "id": "77ca460f",
   "metadata": {},
   "outputs": [],
   "source": [
    "# Check to make sure we have one per subject in dataset\n",
    "print(cam_0_dataset.shape)\n",
    "print(cam_1_dataset.shape)"
   ]
  },
  {
   "cell_type": "markdown",
   "id": "51b6a04b",
   "metadata": {},
   "source": [
    "## Define function for the population saliency map"
   ]
  },
  {
   "cell_type": "code",
   "execution_count": null,
   "id": "a944c910",
   "metadata": {},
   "outputs": [],
   "source": [
    "def pop_saliency(cam, n_top, n_nodes):\n",
    "    freqs = np.zeros(n_nodes)\n",
    "    n_top_persub=[]\n",
    "    \n",
    "    #Find n_top most discriminatory regions per subject\n",
    "    for i in range(cam.shape[0]):\n",
    "        indvcam=cam[i,:]\n",
    "        nodestop=indvcam.argsort()[-n_top:]\n",
    "        nodestop=nodestop.numpy()\n",
    "        n_top_persub.append(nodestop)\n",
    "    #Find unique\n",
    "        for m in nodestop:\n",
    "            freqs[m] += 1\n",
    "    \n",
    "    return n_top_persub, freqs"
   ]
  },
  {
   "cell_type": "markdown",
   "id": "b5c06047",
   "metadata": {},
   "source": [
    "## Get top 10 regions per group"
   ]
  },
  {
   "cell_type": "code",
   "execution_count": null,
   "id": "2a0a2155",
   "metadata": {},
   "outputs": [],
   "source": [
    "n_10_top_persub_0, freqs_10_0 = pop_saliency(cam_0_dataset, n_top=10, n_nodes=377)\n",
    "n_10_top_persub_1, freqs_10_1 = pop_saliency(cam_1_dataset, n_top=10, n_nodes=377)"
   ]
  },
  {
   "cell_type": "code",
   "execution_count": null,
   "id": "b0c18eeb",
   "metadata": {},
   "outputs": [],
   "source": [
    "salient_nodes=pd.DataFrame()\n",
    "salient_nodes['Control']=freqs_10_0\n",
    "salient_nodes['UPE']=freqs_10_1"
   ]
  },
  {
   "cell_type": "code",
   "execution_count": null,
   "id": "d8b4bf5b",
   "metadata": {},
   "outputs": [],
   "source": [
    "salient_nodes.to_csv('UPE_10_salientnodes_allsubs.csv')"
   ]
  },
  {
   "cell_type": "markdown",
   "id": "04255cff",
   "metadata": {},
   "source": [
    "## Take avg of CAM output"
   ]
  },
  {
   "cell_type": "code",
   "execution_count": null,
   "id": "80f8d8f6",
   "metadata": {},
   "outputs": [],
   "source": [
    "#Take average and rank for controls\n",
    "cam_0_dataset_np=cam_0_dataset.detach().numpy()\n",
    "print(cam_0_dataset_np.shape)\n",
    "cam_0_groupavg=np.mean(cam_0_dataset_np, axis=0)\n",
    "print(cam_0_groupavg.shape)\n",
    "rank_cam_0=cam_0_groupavg.argsort()"
   ]
  },
  {
   "cell_type": "code",
   "execution_count": null,
   "id": "a65b8d80",
   "metadata": {},
   "outputs": [],
   "source": [
    "#Take average and rank for UPE\n",
    "cam_1_dataset_np=cam_1_dataset.detach().numpy()\n",
    "print(cam_1_dataset_np.shape)\n",
    "cam_1_groupavg=np.mean(cam_1_dataset_np, axis=0)\n",
    "print(cam_1_groupavg.shape)\n",
    "rank_cam_1=cam_1_groupavg.argsort()"
   ]
  },
  {
   "cell_type": "code",
   "execution_count": null,
   "id": "72cedb29",
   "metadata": {},
   "outputs": [],
   "source": [
    "#Take average and rank for all subjects\n",
    "combined_cam=np.concatenate((cam_0_dataset_np, cam_1_dataset_np))\n",
    "print(combined_cam.shape)\n",
    "cam_datasetavg=np.mean(combined_cam, axis=0)\n",
    "print(cam_datasetavg.shape)\n",
    "rank_cam_all=cam_datasetavg.argsort()"
   ]
  },
  {
   "cell_type": "code",
   "execution_count": null,
   "id": "2f449b69",
   "metadata": {},
   "outputs": [],
   "source": [
    "avgsalient_nodes=pd.DataFrame()\n",
    "avgsalient_nodes['Control_rank']=rank_cam_0\n",
    "avgsalient_nodes['Control_CAM']=cam_0_groupavg\n",
    "avgsalient_nodes['UPE_rank']=rank_cam_1\n",
    "avgsalient_nodes['UPE_CAM']=cam_1_groupavg\n",
    "avgsalient_nodes['allsubs_rank']=rank_cam_all\n",
    "avgsalient_nodes['allsubs_cam']=cam_datasetavg"
   ]
  },
  {
   "cell_type": "code",
   "execution_count": null,
   "id": "686d9694",
   "metadata": {},
   "outputs": [],
   "source": [
    "avgsalient_nodes.to_csv('avg_salientnodes_allsubs.csv')"
   ]
  }
 ],
 "metadata": {
  "kernelspec": {
   "display_name": "Python 3 (ipykernel)",
   "language": "python",
   "name": "python3"
  },
  "language_info": {
   "codemirror_mode": {
    "name": "ipython",
    "version": 3
   },
   "file_extension": ".py",
   "mimetype": "text/x-python",
   "name": "python",
   "nbconvert_exporter": "python",
   "pygments_lexer": "ipython3",
   "version": "3.11.4"
  }
 },
 "nbformat": 4,
 "nbformat_minor": 5
}
